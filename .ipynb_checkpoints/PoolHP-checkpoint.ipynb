{
 "cells": [
  {
   "cell_type": "markdown",
   "metadata": {},
   "source": [
    "# Prediction Input Parameters\n",
    "Poolreturntemp\n",
    "OATemp\n",
    "OAHum\n",
    "CloudCover\n",
    "HourOfDay\n",
    "DayOfYear\n",
    "Flow (PumpPower)\n",
    "\n",
    "# Prediction Output Parameters\n",
    "Predicted Temp Rise\n",
    "Predicted PoolReturnTemp (t+1h)\n",
    "Predicted PoolReturnTemp (t+3h)\n",
    "Predicted HeatingPowerDemand\n",
    "\n",
    "# Historical Data Rows\n",
    "t\n",
    "t+5min\n",
    "t+10min\n",
    "\n",
    "# Historical Data\n",
    "## Inputs\n",
    "OATemp\n",
    "OAHum\n",
    "CloudCover/SolarLoad\n",
    "PoolReturnTemp\n",
    "HourOfDay\n",
    "DayOfYear\n",
    "## Outputs\n",
    "HeatingPowerDemand\n",
    "TempRise\n",
    "PoolReturnTemp(t+1h)\n",
    "PoolReturnTemp(t+3h)\n",
    "\n",
    "## Preprocessors\n",
    "1. Extractor - accumulates rows of data. Data only reports on changes, so maintains history per row\n",
    "2. Runtime filter - removes data when system is not operational. This is important becuase we can't measure pool temp then. Note: Removes first 5 minutes of each day as the system is stabilizing then.\n",
    "3. Time slicer - Averages data into 5 minute buckets\n",
    "4. Future Capture - For each 5 minute bucket, looks forward 3 hours to determine pool temp rise. Special processing required for end of day processing. For last 3 hours, take temp rise * hours difference /3. Might be able to use that calculation for everything and just always look forward 36 buckets.\n",
    "5. Drop last 3 hours of dataset as there is no forward looking data.\n"
   ]
  },
  {
   "cell_type": "code",
   "execution_count": 121,
   "metadata": {},
   "outputs": [],
   "source": [
    "import pandas as pd\n",
    "import numpy as np\n",
    "\n",
    "# Make numpy values easier to read.\n",
    "np.set_printoptions(precision=3, suppress=True)\n",
    "\n",
    "import tensorflow as tf\n",
    "from tensorflow.keras import layers\n",
    "from tensorflow.keras.layers.experimental import preprocessing"
   ]
  },
  {
   "cell_type": "code",
   "execution_count": 122,
   "metadata": {},
   "outputs": [
    {
     "data": {
      "text/html": [
       "<div>\n",
       "<style scoped>\n",
       "    .dataframe tbody tr th:only-of-type {\n",
       "        vertical-align: middle;\n",
       "    }\n",
       "\n",
       "    .dataframe tbody tr th {\n",
       "        vertical-align: top;\n",
       "    }\n",
       "\n",
       "    .dataframe thead th {\n",
       "        text-align: right;\n",
       "    }\n",
       "</style>\n",
       "<table border=\"1\" class=\"dataframe\">\n",
       "  <thead>\n",
       "    <tr style=\"text-align: right;\">\n",
       "      <th></th>\n",
       "      <th>last_changed</th>\n",
       "      <th>hdpower</th>\n",
       "      <th>poolheatedtemp</th>\n",
       "      <th>poolreturntemp</th>\n",
       "      <th>dark_sky_temperture</th>\n",
       "      <th>efficiency</th>\n",
       "    </tr>\n",
       "  </thead>\n",
       "  <tbody>\n",
       "    <tr>\n",
       "      <th>0</th>\n",
       "      <td>2020-06-22 16:30:10.468728-04:00</td>\n",
       "      <td>4742</td>\n",
       "      <td>94</td>\n",
       "      <td>90</td>\n",
       "      <td>90.4</td>\n",
       "      <td>8.435259</td>\n",
       "    </tr>\n",
       "    <tr>\n",
       "      <th>1</th>\n",
       "      <td>2020-06-22 16:30:40.556357-04:00</td>\n",
       "      <td>4742</td>\n",
       "      <td>93</td>\n",
       "      <td>90</td>\n",
       "      <td>90.4</td>\n",
       "      <td>6.326445</td>\n",
       "    </tr>\n",
       "    <tr>\n",
       "      <th>2</th>\n",
       "      <td>2020-06-23 13:28:57.028470-04:00</td>\n",
       "      <td>4461</td>\n",
       "      <td>88</td>\n",
       "      <td>87</td>\n",
       "      <td>84.7</td>\n",
       "      <td>2.241650</td>\n",
       "    </tr>\n",
       "    <tr>\n",
       "      <th>3</th>\n",
       "      <td>2020-06-23 13:28:57.047076-04:00</td>\n",
       "      <td>4217</td>\n",
       "      <td>88</td>\n",
       "      <td>87</td>\n",
       "      <td>84.7</td>\n",
       "      <td>2.371354</td>\n",
       "    </tr>\n",
       "    <tr>\n",
       "      <th>4</th>\n",
       "      <td>2020-06-23 13:28:59.058786-04:00</td>\n",
       "      <td>4275</td>\n",
       "      <td>88</td>\n",
       "      <td>87</td>\n",
       "      <td>84.7</td>\n",
       "      <td>2.339181</td>\n",
       "    </tr>\n",
       "  </tbody>\n",
       "</table>\n",
       "</div>"
      ],
      "text/plain": [
       "                       last_changed  hdpower  poolheatedtemp  poolreturntemp  \\\n",
       "0  2020-06-22 16:30:10.468728-04:00     4742              94              90   \n",
       "1  2020-06-22 16:30:40.556357-04:00     4742              93              90   \n",
       "2  2020-06-23 13:28:57.028470-04:00     4461              88              87   \n",
       "3  2020-06-23 13:28:57.047076-04:00     4217              88              87   \n",
       "4  2020-06-23 13:28:59.058786-04:00     4275              88              87   \n",
       "\n",
       "   dark_sky_temperture  efficiency  \n",
       "0                 90.4    8.435259  \n",
       "1                 90.4    6.326445  \n",
       "2                 84.7    2.241650  \n",
       "3                 84.7    2.371354  \n",
       "4                 84.7    2.339181  "
      ]
     },
     "execution_count": 122,
     "metadata": {},
     "output_type": "execute_result"
    }
   ],
   "source": [
    "pool_train = pd.read_csv(\n",
    "    \"hpdatastrip.csv\",\n",
    "    names=[\"last_changed\",\"hdpower\",\"poolheatedtemp\",\"poolreturntemp\",\"dark_sky_temperture\",\"efficiency\"\n",
    "])\n",
    "\n",
    "pool_train.head()"
   ]
  },
  {
   "cell_type": "code",
   "execution_count": 123,
   "metadata": {},
   "outputs": [
    {
     "data": {
      "text/plain": [
       "array([[ 94. ,  90. ,  90.4],\n",
       "       [ 93. ,  90. ,  90.4],\n",
       "       [ 88. ,  87. ,  84.7],\n",
       "       ...,\n",
       "       [101. ,  95. ,  88. ],\n",
       "       [101. ,  95. ,  88. ],\n",
       "       [101. ,  95. ,  88. ]])"
      ]
     },
     "execution_count": 123,
     "metadata": {},
     "output_type": "execute_result"
    }
   ],
   "source": [
    "pool_features = pool_train.copy()\n",
    "pool_labels = pool_features.pop(\"efficiency\")\n",
    "pool_extran1 = pool_features.pop(\"last_changed\")\n",
    "pool_entran2 = pool_features.pop(\"hdpower\")\n",
    "pool_features_ary = np.array(pool_features)\n",
    "pool_features_ary"
   ]
  },
  {
   "cell_type": "code",
   "execution_count": 124,
   "metadata": {},
   "outputs": [],
   "source": [
    "pool_model = tf.keras.Sequential([\n",
    "  layers.Dense(64),\n",
    "  layers.Dense(1)\n",
    "])\n",
    "\n",
    "pool_model.compile(loss = tf.losses.MeanSquaredError(),\n",
    "                      optimizer = tf.optimizers.Adam())"
   ]
  },
  {
   "cell_type": "code",
   "execution_count": 125,
   "metadata": {},
   "outputs": [
    {
     "name": "stdout",
     "output_type": "stream",
     "text": [
      "Epoch 1/10\n",
      "2614/2614 [==============================] - 2s 743us/step - loss: 10.9673\n",
      "Epoch 2/10\n",
      "2614/2614 [==============================] - 2s 745us/step - loss: 2.9826\n",
      "Epoch 3/10\n",
      "2614/2614 [==============================] - 2s 881us/step - loss: 0.7998\n",
      "Epoch 4/10\n",
      "2614/2614 [==============================] - 4s 1ms/step - loss: 0.3494\n",
      "Epoch 5/10\n",
      "2614/2614 [==============================] - 2s 945us/step - loss: 0.3242\n",
      "Epoch 6/10\n",
      "2614/2614 [==============================] - 3s 1ms/step - loss: 0.3126\n",
      "Epoch 7/10\n",
      "2614/2614 [==============================] - 3s 964us/step - loss: 0.3023\n",
      "Epoch 8/10\n",
      "2614/2614 [==============================] - 3s 1ms/step - loss: 0.3079\n",
      "Epoch 9/10\n",
      "2614/2614 [==============================] - 3s 1ms/step - loss: 0.2939\n",
      "Epoch 10/10\n",
      "2614/2614 [==============================] - 3s 1ms/step - loss: 0.2878\n"
     ]
    },
    {
     "data": {
      "text/plain": [
       "<tensorflow.python.keras.callbacks.History at 0x7f61e08d86d8>"
      ]
     },
     "execution_count": 125,
     "metadata": {},
     "output_type": "execute_result"
    }
   ],
   "source": [
    "pool_model.fit(pool_features_ary, pool_labels, epochs=10)\n"
   ]
  },
  {
   "cell_type": "code",
   "execution_count": 127,
   "metadata": {},
   "outputs": [],
   "source": [
    "normalize = preprocessing.Normalization()\n"
   ]
  },
  {
   "cell_type": "code",
   "execution_count": 130,
   "metadata": {},
   "outputs": [],
   "source": [
    "normalize.adapt(pool_features_ary)\n"
   ]
  },
  {
   "cell_type": "code",
   "execution_count": 131,
   "metadata": {},
   "outputs": [
    {
     "name": "stdout",
     "output_type": "stream",
     "text": [
      "Epoch 1/10\n",
      "2614/2614 [==============================] - 2s 771us/step - loss: 3.4782\n",
      "Epoch 2/10\n",
      "2614/2614 [==============================] - 2s 905us/step - loss: 0.1953\n",
      "Epoch 3/10\n",
      "2614/2614 [==============================] - 2s 920us/step - loss: 0.1958\n",
      "Epoch 4/10\n",
      "2614/2614 [==============================] - 3s 975us/step - loss: 0.1965\n",
      "Epoch 5/10\n",
      "2614/2614 [==============================] - 3s 1ms/step - loss: 0.1945\n",
      "Epoch 6/10\n",
      "2614/2614 [==============================] - 4s 1ms/step - loss: 0.1955\n",
      "Epoch 7/10\n",
      "2614/2614 [==============================] - 3s 1ms/step - loss: 0.1940\n",
      "Epoch 8/10\n",
      "2614/2614 [==============================] - 3s 1ms/step - loss: 0.1944\n",
      "Epoch 9/10\n",
      "2614/2614 [==============================] - 3s 1ms/step - loss: 0.1951\n",
      "Epoch 10/10\n",
      "2614/2614 [==============================] - 3s 964us/step - loss: 0.1949\n"
     ]
    },
    {
     "data": {
      "text/plain": [
       "<tensorflow.python.keras.callbacks.History at 0x7f62007acd30>"
      ]
     },
     "execution_count": 131,
     "metadata": {},
     "output_type": "execute_result"
    }
   ],
   "source": [
    "norm_pool_model = tf.keras.Sequential([\n",
    "  normalize,\n",
    "  layers.Dense(64),\n",
    "  layers.Dense(1)\n",
    "])\n",
    "\n",
    "norm_pool_model.compile(loss = tf.losses.MeanSquaredError(),\n",
    "                           optimizer = tf.optimizers.Adam())\n",
    "\n",
    "norm_pool_model.fit(pool_features_ary, pool_labels, epochs=10)"
   ]
  },
  {
   "cell_type": "code",
   "execution_count": 133,
   "metadata": {},
   "outputs": [
    {
     "data": {
      "text/plain": [
       "array([90.4, 90.4, 84.7, 84.7, 84.7, 84.7, 84.7, 84.7, 84.7, 84.7, 84.7,\n",
       "       84.7, 84.7, 84.7, 84.7, 84.7, 84.7, 84.7, 84.7, 84.7, 84.7, 84.7,\n",
       "       84.7, 84.7, 84.7, 84.7, 84.7, 84.7, 84.7, 84.7, 84.7, 84.7, 84.7,\n",
       "       84.7, 84.7, 84.7, 84.7, 84.7, 84.7, 84.7, 84.7, 84.7, 84.7, 84.7,\n",
       "       84.7, 84.7, 84.7, 84.7, 84.7, 84.7, 84.7, 84.7, 84.7, 84.7, 84.7,\n",
       "       84.7, 84.7, 84.7, 84.7, 84.7, 84.7, 84.7, 84.7, 84.7, 84.7, 84.7,\n",
       "       84.7, 84.7, 84.7, 84.7, 84.7, 84.7, 84.7, 84.7, 84.7, 84.7, 84.7,\n",
       "       84.7, 84.7, 84.7, 84.7, 84.7, 84.7, 84.7, 84.7, 84.7, 84.7, 84.7,\n",
       "       84.7, 84.7, 84.7, 84.7, 84.7, 84.7, 84.7, 84.7, 84.7, 84.7, 84.7,\n",
       "       84.7])"
      ]
     },
     "execution_count": 133,
     "metadata": {},
     "output_type": "execute_result"
    }
   ],
   "source": [
    "dark_sky_temperture = np.array(pool_features['dark_sky_temperture'])\n",
    "dark_sky_temperture[:100]"
   ]
  },
  {
   "cell_type": "code",
   "execution_count": 134,
   "metadata": {},
   "outputs": [
    {
     "data": {
      "text/plain": [
       "array([94, 93, 88, 88, 88, 88, 88, 88, 88, 88])"
      ]
     },
     "execution_count": 134,
     "metadata": {},
     "output_type": "execute_result"
    }
   ],
   "source": [
    "poolheatedtemp = np.array(pool_features['poolheatedtemp'])\n",
    "poolheatedtemp[:10]"
   ]
  },
  {
   "cell_type": "code",
   "execution_count": 135,
   "metadata": {},
   "outputs": [
    {
     "data": {
      "text/plain": [
       "array([94, 93, 88, 88, 88, 88, 88, 88, 88, 88])"
      ]
     },
     "execution_count": 135,
     "metadata": {},
     "output_type": "execute_result"
    }
   ],
   "source": [
    "poolreturntemp = np.array(pool_features['poolheatedtemp'])\n",
    "poolreturntemp[:10]"
   ]
  },
  {
   "cell_type": "code",
   "execution_count": 136,
   "metadata": {},
   "outputs": [
    {
     "name": "stdout",
     "output_type": "stream",
     "text": [
      "[[94.  90.  90.4]]\n",
      "[[8.562]]\n"
     ]
    }
   ],
   "source": [
    "dp = np.array([[94, 90,90.4]])\n",
    "print(dp)\n",
    "\n",
    "eff = pool_model.predict(dp)\n",
    "print(eff)\n"
   ]
  },
  {
   "cell_type": "code",
   "execution_count": 137,
   "metadata": {},
   "outputs": [
    {
     "name": "stdout",
     "output_type": "stream",
     "text": [
      "[[93.  90.  90.4]]\n",
      "[[6.59]]\n"
     ]
    }
   ],
   "source": [
    "dp = np.array([[93, 90,90.4]])\n",
    "print(dp)\n",
    "\n",
    "eff = pool_model.predict(dp)\n",
    "print(eff)"
   ]
  },
  {
   "cell_type": "code",
   "execution_count": 140,
   "metadata": {},
   "outputs": [
    {
     "name": "stdout",
     "output_type": "stream",
     "text": [
      "[[101  95  88]]\n",
      "[[12.496]]\n"
     ]
    }
   ],
   "source": [
    "dp = np.array([[101, 95, 88]])\n",
    "print(dp)\n",
    "\n",
    "eff = pool_model.predict(dp)\n",
    "print(eff)"
   ]
  },
  {
   "cell_type": "code",
   "execution_count": 141,
   "metadata": {},
   "outputs": [
    {
     "name": "stdout",
     "output_type": "stream",
     "text": [
      "Model: \"sequential_4\"\n",
      "_________________________________________________________________\n",
      "Layer (type)                 Output Shape              Param #   \n",
      "=================================================================\n",
      "dense_8 (Dense)              (None, 64)                256       \n",
      "_________________________________________________________________\n",
      "dense_9 (Dense)              (None, 1)                 65        \n",
      "=================================================================\n",
      "Total params: 321\n",
      "Trainable params: 321\n",
      "Non-trainable params: 0\n",
      "_________________________________________________________________\n"
     ]
    }
   ],
   "source": [
    "pool_model.summary()"
   ]
  }
 ],
 "metadata": {
  "kernelspec": {
   "display_name": "Python 3",
   "language": "python",
   "name": "python3"
  },
  "language_info": {
   "codemirror_mode": {
    "name": "ipython",
    "version": 3
   },
   "file_extension": ".py",
   "mimetype": "text/x-python",
   "name": "python",
   "nbconvert_exporter": "python",
   "pygments_lexer": "ipython3",
   "version": "3.6.9"
  }
 },
 "nbformat": 4,
 "nbformat_minor": 2
}
