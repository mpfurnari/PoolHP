{
 "cells": [
  {
   "cell_type": "markdown",
   "metadata": {},
   "source": [
    "<h1><center>Data Collection and Cleaning</center></h1>\n",
    "\n",
    "# Prediction Input Parameters\n",
    "1. Poolreturntemp (Done)\n",
    "1. OATemp (Done)\n",
    "1. OAHum **\n",
    "1. uv index (Done)\n",
    "1. HourOfDay (Need to extract)\n",
    "1. DayOfYear (Need to extract)\n",
    "1. Flow (PumpPower) **\n",
    "\n",
    "\n",
    "# Other Inputs\n",
    "1. \"Efficiency\" (Done)\n",
    "\n",
    "# Captured Trainable Output Parameters\n",
    "1. Predicted Temp Rise (poolheatedtemp, done)\n",
    "1. Predicted PoolReturnTemp (t+1h)\n",
    "1. Predicted PoolReturnTemp (t+3h)\n",
    "1. Predicted HeatingPowerDemand (Done)\n",
    "\n",
    "# Historical Data\n",
    "## Data Rows\n",
    "1. t\n",
    "1. t+5min\n",
    "1. t+10min\n",
    "\n",
    "## Inputs\n",
    "1. OATemp\n",
    "1. OAHum\n",
    "1. CloudCover/SolarLoad/UV Index\n",
    "1. PoolReturnTemp\n",
    "1. HourOfDay\n",
    "1. DayOfYear\n",
    "\n",
    "## Outputs\n",
    "1. HeatingPowerDemand\n",
    "1. TempRise\n",
    "1. PoolReturnTemp(t+1h)\n",
    "1. PoolReturnTemp(t+3h)\n",
    "\n",
    "# Preprocessors\n",
    "1. Extractor - accumulates rows of data. Data only reports on changes, so maintains history per row\n",
    "```\n",
    "python3 ./extractor.py > hpdata.csv\n",
    "```  \n",
    "1. Runtime filter - removes data when system is not operational. This is important becuase we can't measure pool temp then. Note: Removes first 5 minutes of each day as the system is stabilizing then. (Note: Need to complete this. For now, using pump power levels, but this leads to some bad data.)\n",
    "```\n",
    "python3 ./filterrunonly.py  hpdata.csv  > hpdatafiltered.csv\n",
    "```\n",
    "1. Time slicer - Filters data to once every 5 minute buckets\n",
    "1. Future Capture - For each 5 minute bucket, looks forward 3 hours to determine pool temp rise. Special processing required for end of day processing. For last 3 hours, take temp rise * hours difference /3. Might be able to use that calculation for everything and just always look forward 36 buckets. Only report if there is enough future data to show a change (drop the tail).\n",
    "1. Convert for linux (if needed)\n",
    "```\n",
    "dos2unix hpdata.csv\n",
    "```\n",
    "1. Remove and NaN\n",
    "```\n",
    "# Remove nan entries\n",
    "sed -i '/nan/d' ./hpdata.csv\n",
    "````\n"
   ]
  },
  {
   "cell_type": "code",
   "execution_count": 47,
   "metadata": {},
   "outputs": [],
   "source": [
    "import pandas as pd\n",
    "import numpy as np\n",
    "from datetime import datetime\n",
    "\n",
    "\n",
    "# Make numpy values easier to read.\n",
    "np.set_printoptions(precision=3, suppress=True)\n",
    "\n",
    "import tensorflow as tf\n",
    "from tensorflow.keras import layers\n",
    "from tensorflow.keras.layers.experimental import preprocessing"
   ]
  },
  {
   "cell_type": "code",
   "execution_count": 48,
   "metadata": {},
   "outputs": [
    {
     "data": {
      "text/html": [
       "<div>\n",
       "<style scoped>\n",
       "    .dataframe tbody tr th:only-of-type {\n",
       "        vertical-align: middle;\n",
       "    }\n",
       "\n",
       "    .dataframe tbody tr th {\n",
       "        vertical-align: top;\n",
       "    }\n",
       "\n",
       "    .dataframe thead th {\n",
       "        text-align: right;\n",
       "    }\n",
       "</style>\n",
       "<table border=\"1\" class=\"dataframe\">\n",
       "  <thead>\n",
       "    <tr style=\"text-align: right;\">\n",
       "      <th></th>\n",
       "      <th>last_changed</th>\n",
       "      <th>hppower</th>\n",
       "      <th>pumppower</th>\n",
       "      <th>poolheatedtemp</th>\n",
       "      <th>pooltemp</th>\n",
       "      <th>oa_temp</th>\n",
       "      <th>oa_hum</th>\n",
       "      <th>uv_index</th>\n",
       "      <th>efficiency</th>\n",
       "      <th>fwd_min</th>\n",
       "      <th>fwd_delta_temp</th>\n",
       "      <th>fwd_delta_per_hr</th>\n",
       "    </tr>\n",
       "  </thead>\n",
       "  <tbody>\n",
       "    <tr>\n",
       "      <th>0</th>\n",
       "      <td>2020-06-22 16:30:11.285661-04:00</td>\n",
       "      <td>4742.0</td>\n",
       "      <td>835.0</td>\n",
       "      <td>94.0</td>\n",
       "      <td>90.0</td>\n",
       "      <td>90.4</td>\n",
       "      <td>59.0</td>\n",
       "      <td>5.0</td>\n",
       "      <td>8.435259384226065</td>\n",
       "      <td>174.813129</td>\n",
       "      <td>-1.0</td>\n",
       "      <td>-0.343224</td>\n",
       "    </tr>\n",
       "    <tr>\n",
       "      <th>1</th>\n",
       "      <td>2020-06-22 16:35:01.054978-04:00</td>\n",
       "      <td>0.0</td>\n",
       "      <td>293.0</td>\n",
       "      <td>90.0</td>\n",
       "      <td>90.0</td>\n",
       "      <td>90.4</td>\n",
       "      <td>59.0</td>\n",
       "      <td>5.0</td>\n",
       "      <td>inf</td>\n",
       "      <td>174.983538</td>\n",
       "      <td>-1.0</td>\n",
       "      <td>-0.342889</td>\n",
       "    </tr>\n",
       "    <tr>\n",
       "      <th>2</th>\n",
       "      <td>2020-06-22 16:40:00.076547-04:00</td>\n",
       "      <td>0.0</td>\n",
       "      <td>296.0</td>\n",
       "      <td>90.0</td>\n",
       "      <td>90.0</td>\n",
       "      <td>90.4</td>\n",
       "      <td>59.0</td>\n",
       "      <td>5.0</td>\n",
       "      <td>inf</td>\n",
       "      <td>175.032815</td>\n",
       "      <td>-1.0</td>\n",
       "      <td>-0.342793</td>\n",
       "    </tr>\n",
       "    <tr>\n",
       "      <th>3</th>\n",
       "      <td>2020-06-22 16:45:00.084615-04:00</td>\n",
       "      <td>0.0</td>\n",
       "      <td>297.0</td>\n",
       "      <td>90.0</td>\n",
       "      <td>90.0</td>\n",
       "      <td>90.4</td>\n",
       "      <td>59.0</td>\n",
       "      <td>5.0</td>\n",
       "      <td>inf</td>\n",
       "      <td>175.034219</td>\n",
       "      <td>-1.0</td>\n",
       "      <td>-0.342790</td>\n",
       "    </tr>\n",
       "    <tr>\n",
       "      <th>4</th>\n",
       "      <td>2020-06-22 16:50:01.165865-04:00</td>\n",
       "      <td>0.0</td>\n",
       "      <td>297.0</td>\n",
       "      <td>90.0</td>\n",
       "      <td>90.0</td>\n",
       "      <td>90.3</td>\n",
       "      <td>59.0</td>\n",
       "      <td>4.0</td>\n",
       "      <td>inf</td>\n",
       "      <td>174.981548</td>\n",
       "      <td>-1.0</td>\n",
       "      <td>-0.342893</td>\n",
       "    </tr>\n",
       "  </tbody>\n",
       "</table>\n",
       "</div>"
      ],
      "text/plain": [
       "                       last_changed  hppower  pumppower  poolheatedtemp  \\\n",
       "0  2020-06-22 16:30:11.285661-04:00   4742.0      835.0            94.0   \n",
       "1  2020-06-22 16:35:01.054978-04:00      0.0      293.0            90.0   \n",
       "2  2020-06-22 16:40:00.076547-04:00      0.0      296.0            90.0   \n",
       "3  2020-06-22 16:45:00.084615-04:00      0.0      297.0            90.0   \n",
       "4  2020-06-22 16:50:01.165865-04:00      0.0      297.0            90.0   \n",
       "\n",
       "   pooltemp  oa_temp  oa_hum  uv_index             efficiency     fwd_min  \\\n",
       "0      90.0     90.4    59.0       5.0     8.435259384226065   174.813129   \n",
       "1      90.0     90.4    59.0       5.0                   inf   174.983538   \n",
       "2      90.0     90.4    59.0       5.0                   inf   175.032815   \n",
       "3      90.0     90.4    59.0       5.0                   inf   175.034219   \n",
       "4      90.0     90.3    59.0       4.0                   inf   174.981548   \n",
       "\n",
       "   fwd_delta_temp  fwd_delta_per_hr  \n",
       "0            -1.0         -0.343224  \n",
       "1            -1.0         -0.342889  \n",
       "2            -1.0         -0.342793  \n",
       "3            -1.0         -0.342790  \n",
       "4            -1.0         -0.342893  "
      ]
     },
     "execution_count": 48,
     "metadata": {},
     "output_type": "execute_result"
    }
   ],
   "source": [
    "\n",
    "pool_train = pd.read_csv(\n",
    "    \"hpdatabuckets.csv\",\n",
    "    names={\"last_changed\":datetime,\n",
    "           \"hppower\":tf.float32,\n",
    "           \"pumppower\":tf.float32,\n",
    "           \"poolheatedtemp\":tf.float32,\n",
    "           \"pooltemp\":tf.float32,\n",
    "           \"oa_temp\":tf.float32,\n",
    "           \"oa_hum\":tf.float32,\n",
    "           \"uv_index\":tf.float32,\n",
    "           \"efficiency\":tf.float32,\n",
    "           \"fwd_min\":tf.float32,\n",
    "           \"fwd_delta_temp\":tf.float32,\n",
    "           \"fwd_delta_per_hr\":tf.float32},\n",
    "        \n",
    "            low_memory=False)\n",
    "\n",
    "pool_train.head()"
   ]
  },
  {
   "cell_type": "code",
   "execution_count": 67,
   "metadata": {},
   "outputs": [
    {
     "data": {
      "text/plain": [
       "array([[4742. ,   90. ,   90.4,   59. ,    5. ],\n",
       "       [   0. ,   90. ,   90.4,   59. ,    5. ],\n",
       "       [   0. ,   90. ,   90.4,   59. ,    5. ],\n",
       "       ...,\n",
       "       [   0. ,   51. ,   39.6,   73. ,    0. ],\n",
       "       [   0. ,   51. ,   39.6,   73. ,    0. ],\n",
       "       [   0. ,   51. ,   39.3,   73. ,    0. ]])"
      ]
     },
     "execution_count": 67,
     "metadata": {},
     "output_type": "execute_result"
    }
   ],
   "source": [
    "pool_features = pool_train.copy()\n",
    "pool_labels = pool_features.pop(\"fwd_delta_per_hr\")\n",
    "\n",
    "pool_extran1 = pool_features.pop(\"last_changed\")\n",
    "pool_pumpppower = pool_features.pop(\"pumppower\")\n",
    "pool_heatedtemp = pool_features.pop(\"poolheatedtemp\")\n",
    "pool_efficiency = pool_features.pop(\"efficiency\")\n",
    "pool_fwd_min = pool_features.pop(\"fwd_min\")\n",
    "pool_fwd_delta_temp = pool_features.pop(\"fwd_delta_temp\")\n",
    "\n",
    "pool_features_ary = np.array(pool_features)\n",
    "pool_features_ary"
   ]
  },
  {
   "cell_type": "code",
   "execution_count": 69,
   "metadata": {},
   "outputs": [],
   "source": [
    "pool_model = tf.keras.Sequential([\n",
    "  layers.Dense(64),\n",
    "  layers.Dense(1)\n",
    "])\n",
    "\n",
    "pool_model.compile(loss = tf.losses.MeanSquaredError(),\n",
    "                      optimizer = tf.optimizers.Adam())"
   ]
  },
  {
   "cell_type": "code",
   "execution_count": 70,
   "metadata": {},
   "outputs": [
    {
     "name": "stdout",
     "output_type": "stream",
     "text": [
      "Epoch 1/10\n",
      "655/655 [==============================] - 1s 779us/step - loss: 1083.3706\n",
      "Epoch 2/10\n",
      "655/655 [==============================] - 1s 1ms/step - loss: 0.6785\n",
      "Epoch 3/10\n",
      "655/655 [==============================] - 1s 959us/step - loss: 0.3690\n",
      "Epoch 4/10\n",
      "655/655 [==============================] - 1s 1ms/step - loss: 0.2455\n",
      "Epoch 5/10\n",
      "655/655 [==============================] - 1s 920us/step - loss: 0.1777\n",
      "Epoch 6/10\n",
      "655/655 [==============================] - 0s 732us/step - loss: 0.1740\n",
      "Epoch 7/10\n",
      "655/655 [==============================] - 0s 739us/step - loss: 0.2524\n",
      "Epoch 8/10\n",
      "655/655 [==============================] - 1s 766us/step - loss: 69.5159\n",
      "Epoch 9/10\n",
      "655/655 [==============================] - ETA: 0s - loss: 0.134 - 1s 767us/step - loss: 0.1364\n",
      "Epoch 10/10\n",
      "655/655 [==============================] - 0s 736us/step - loss: 0.2898\n"
     ]
    },
    {
     "data": {
      "text/plain": [
       "<tensorflow.python.keras.callbacks.History at 0x7f3d1868d5f8>"
      ]
     },
     "execution_count": 70,
     "metadata": {},
     "output_type": "execute_result"
    }
   ],
   "source": [
    "pool_model.fit(pool_features_ary, pool_labels, epochs=10)\n"
   ]
  },
  {
   "cell_type": "code",
   "execution_count": 71,
   "metadata": {},
   "outputs": [],
   "source": [
    "normalize = preprocessing.Normalization()\n"
   ]
  },
  {
   "cell_type": "code",
   "execution_count": 72,
   "metadata": {},
   "outputs": [],
   "source": [
    "normalize.adapt(pool_features_ary)\n"
   ]
  },
  {
   "cell_type": "code",
   "execution_count": 73,
   "metadata": {},
   "outputs": [
    {
     "name": "stdout",
     "output_type": "stream",
     "text": [
      "Epoch 1/10\n",
      "655/655 [==============================] - 0s 762us/step - loss: 0.0976\n",
      "Epoch 2/10\n",
      "655/655 [==============================] - 0s 721us/step - loss: 0.0932\n",
      "Epoch 3/10\n",
      "655/655 [==============================] - 0s 742us/step - loss: 0.0926\n",
      "Epoch 4/10\n",
      "655/655 [==============================] - 1s 953us/step - loss: 0.0931\n",
      "Epoch 5/10\n",
      "655/655 [==============================] - 1s 931us/step - loss: 0.0930\n",
      "Epoch 6/10\n",
      "655/655 [==============================] - 1s 910us/step - loss: 0.0927\n",
      "Epoch 7/10\n",
      "655/655 [==============================] - 1s 1ms/step - loss: 0.0929\n",
      "Epoch 8/10\n",
      "655/655 [==============================] - 1s 988us/step - loss: 0.0924\n",
      "Epoch 9/10\n",
      "655/655 [==============================] - 1s 1ms/step - loss: 0.0928\n",
      "Epoch 10/10\n",
      "655/655 [==============================] - 1s 1ms/step - loss: 0.0929\n"
     ]
    },
    {
     "data": {
      "text/plain": [
       "<tensorflow.python.keras.callbacks.History at 0x7f3d186a46a0>"
      ]
     },
     "execution_count": 73,
     "metadata": {},
     "output_type": "execute_result"
    }
   ],
   "source": [
    "norm_pool_model = tf.keras.Sequential([\n",
    "  normalize,\n",
    "  layers.Dense(64),\n",
    "  layers.Dense(1)\n",
    "])\n",
    "\n",
    "norm_pool_model.compile(loss = tf.losses.MeanSquaredError(),\n",
    "                           optimizer = tf.optimizers.Adam())\n",
    "\n",
    "norm_pool_model.fit(pool_features_ary, pool_labels, epochs=10)"
   ]
  },
  {
   "cell_type": "code",
   "execution_count": 74,
   "metadata": {},
   "outputs": [
    {
     "data": {
      "text/plain": [
       "array([90.4, 90.4, 90.4, 90.4, 90.3, 90.2, 90.2, 90.2, 90.2, 90. , 89.9,\n",
       "       89.8, 89.8, 89.6, 89.1, 89.1, 88.9, 88.8, 88.7, 88.6, 88.5, 88.5,\n",
       "       88.2, 88. , 87.9, 87.7, 87.7, 87.5, 87.3, 87.3, 86.9, 86.7, 86.7,\n",
       "       86.3, 86. , 85.8, 85.6, 85.3, 85.2, 85.2, 85.2, 85.2, 84.7, 84.7,\n",
       "       84.1, 83.9, 83.7, 83.4, 82.8, 82.6, 82.7, 82.7, 82.9, 82.7, 82.5,\n",
       "       82.3, 82.1, 81.9, 81.7, 81.5, 81.2, 81. , 81. , 80.8, 80.6, 80.6,\n",
       "       80.2, 80. , 79.9, 79.9, 79.6, 79.5, 79.3, 79.3, 78.9, 78.8, 78.8,\n",
       "       78.6, 78.5, 80.4, 80.5, 80.7, 80.7, 81. , 81.1, 81.2, 81.1, 81.2,\n",
       "       81.2, 81.4, 81.5, 81.6, 81.8, 81.9, 81.9, 81.9, 82.2, 82.3, 82.5,\n",
       "       82.7])"
      ]
     },
     "execution_count": 74,
     "metadata": {},
     "output_type": "execute_result"
    }
   ],
   "source": [
    "dark_sky_temperture = np.array(pool_features['oa_temp'])\n",
    "dark_sky_temperture[:100]"
   ]
  },
  {
   "cell_type": "code",
   "execution_count": 75,
   "metadata": {},
   "outputs": [
    {
     "data": {
      "text/plain": [
       "array([90., 90., 90., 90., 90., 90., 90., 90., 90., 90.])"
      ]
     },
     "execution_count": 75,
     "metadata": {},
     "output_type": "execute_result"
    }
   ],
   "source": [
    "pooltemp = np.array(pool_features['pooltemp'])\n",
    "pooltemp[:10]"
   ]
  },
  {
   "cell_type": "code",
   "execution_count": 96,
   "metadata": {},
   "outputs": [
    {
     "name": "stdout",
     "output_type": "stream",
     "text": [
      "[[4500   90   50   10    0]]\n",
      "[[0.933]]\n"
     ]
    }
   ],
   "source": [
    "hppower = 4500\n",
    "pooltemp = 90\n",
    "oa_temp = 50\n",
    "oa_hum = 10\n",
    "uv_index = 0\n",
    "\n",
    "dp = np.array([[hppower, pooltemp,oa_temp,oa_hum,uv_index]])\n",
    "print(dp)\n",
    "\n",
    "fwd_delta_per_hr = pool_model.predict(dp)\n",
    "print(fwd_delta_per_hr)\n"
   ]
  },
  {
   "cell_type": "code",
   "execution_count": 58,
   "metadata": {},
   "outputs": [
    {
     "name": "stdout",
     "output_type": "stream",
     "text": [
      "Model: \"sequential_3\"\n",
      "_________________________________________________________________\n",
      "Layer (type)                 Output Shape              Param #   \n",
      "=================================================================\n",
      "dense_6 (Dense)              (None, 64)                320       \n",
      "_________________________________________________________________\n",
      "dense_7 (Dense)              (None, 1)                 65        \n",
      "=================================================================\n",
      "Total params: 385\n",
      "Trainable params: 385\n",
      "Non-trainable params: 0\n",
      "_________________________________________________________________\n"
     ]
    }
   ],
   "source": [
    "pool_model.summary()"
   ]
  },
  {
   "cell_type": "code",
   "execution_count": null,
   "metadata": {},
   "outputs": [],
   "source": []
  }
 ],
 "metadata": {
  "kernelspec": {
   "display_name": "Python 3",
   "language": "python",
   "name": "python3"
  },
  "language_info": {
   "codemirror_mode": {
    "name": "ipython",
    "version": 3
   },
   "file_extension": ".py",
   "mimetype": "text/x-python",
   "name": "python",
   "nbconvert_exporter": "python",
   "pygments_lexer": "ipython3",
   "version": "3.6.9"
  }
 },
 "nbformat": 4,
 "nbformat_minor": 2
}
