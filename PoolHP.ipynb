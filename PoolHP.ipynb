{
 "cells": [
  {
   "cell_type": "code",
   "execution_count": 6,
   "metadata": {},
   "outputs": [],
   "source": [
    "import pandas as pd\n",
    "import numpy as np\n",
    "\n",
    "# Make numpy values easier to read.\n",
    "np.set_printoptions(precision=3, suppress=True)\n",
    "\n",
    "import tensorflow as tf\n",
    "from tensorflow.keras import layers\n",
    "from tensorflow.keras.layers.experimental import preprocessing"
   ]
  },
  {
   "cell_type": "code",
   "execution_count": 19,
   "metadata": {},
   "outputs": [
    {
     "data": {
      "text/html": [
       "<div>\n",
       "<style scoped>\n",
       "    .dataframe tbody tr th:only-of-type {\n",
       "        vertical-align: middle;\n",
       "    }\n",
       "\n",
       "    .dataframe tbody tr th {\n",
       "        vertical-align: top;\n",
       "    }\n",
       "\n",
       "    .dataframe thead th {\n",
       "        text-align: right;\n",
       "    }\n",
       "</style>\n",
       "<table border=\"1\" class=\"dataframe\">\n",
       "  <thead>\n",
       "    <tr style=\"text-align: right;\">\n",
       "      <th></th>\n",
       "      <th>last_changed</th>\n",
       "      <th>hdpower</th>\n",
       "      <th>poolheatedtemp</th>\n",
       "      <th>poolreturntemp</th>\n",
       "      <th>dark_sky_temperture</th>\n",
       "      <th>efficiency</th>\n",
       "    </tr>\n",
       "  </thead>\n",
       "  <tbody>\n",
       "    <tr>\n",
       "      <th>0</th>\n",
       "      <td>2020-06-22 16:30:10.468728-04:00</td>\n",
       "      <td>4742</td>\n",
       "      <td>94</td>\n",
       "      <td>90</td>\n",
       "      <td>90.4</td>\n",
       "      <td>8.435259</td>\n",
       "    </tr>\n",
       "    <tr>\n",
       "      <th>1</th>\n",
       "      <td>2020-06-22 16:30:40.556357-04:00</td>\n",
       "      <td>4742</td>\n",
       "      <td>93</td>\n",
       "      <td>90</td>\n",
       "      <td>90.4</td>\n",
       "      <td>6.326445</td>\n",
       "    </tr>\n",
       "    <tr>\n",
       "      <th>2</th>\n",
       "      <td>2020-06-23 13:28:57.028470-04:00</td>\n",
       "      <td>4461</td>\n",
       "      <td>88</td>\n",
       "      <td>87</td>\n",
       "      <td>84.7</td>\n",
       "      <td>2.241650</td>\n",
       "    </tr>\n",
       "    <tr>\n",
       "      <th>3</th>\n",
       "      <td>2020-06-23 13:28:57.047076-04:00</td>\n",
       "      <td>4217</td>\n",
       "      <td>88</td>\n",
       "      <td>87</td>\n",
       "      <td>84.7</td>\n",
       "      <td>2.371354</td>\n",
       "    </tr>\n",
       "    <tr>\n",
       "      <th>4</th>\n",
       "      <td>2020-06-23 13:28:59.058786-04:00</td>\n",
       "      <td>4275</td>\n",
       "      <td>88</td>\n",
       "      <td>87</td>\n",
       "      <td>84.7</td>\n",
       "      <td>2.339181</td>\n",
       "    </tr>\n",
       "  </tbody>\n",
       "</table>\n",
       "</div>"
      ],
      "text/plain": [
       "                       last_changed  hdpower  poolheatedtemp  poolreturntemp  \\\n",
       "0  2020-06-22 16:30:10.468728-04:00     4742              94              90   \n",
       "1  2020-06-22 16:30:40.556357-04:00     4742              93              90   \n",
       "2  2020-06-23 13:28:57.028470-04:00     4461              88              87   \n",
       "3  2020-06-23 13:28:57.047076-04:00     4217              88              87   \n",
       "4  2020-06-23 13:28:59.058786-04:00     4275              88              87   \n",
       "\n",
       "   dark_sky_temperture  efficiency  \n",
       "0                 90.4    8.435259  \n",
       "1                 90.4    6.326445  \n",
       "2                 84.7    2.241650  \n",
       "3                 84.7    2.371354  \n",
       "4                 84.7    2.339181  "
      ]
     },
     "execution_count": 19,
     "metadata": {},
     "output_type": "execute_result"
    }
   ],
   "source": [
    "pool_train = pd.read_csv(\n",
    "    \"hpdatastrip.csv\",\n",
    "    names=[\"last_changed\",\"hdpower\",\"poolheatedtemp\",\"poolreturntemp\",\"dark_sky_temperture\",\"efficiency\"\n",
    "])\n",
    "\n",
    "pool_train.head()"
   ]
  },
  {
   "cell_type": "code",
   "execution_count": 47,
   "metadata": {},
   "outputs": [
    {
     "data": {
      "text/plain": [
       "array([[ 94. ,  90. ,  90.4],\n",
       "       [ 93. ,  90. ,  90.4],\n",
       "       [ 88. ,  87. ,  84.7],\n",
       "       ...,\n",
       "       [101. ,  95. ,  88. ],\n",
       "       [101. ,  95. ,  88. ],\n",
       "       [101. ,  95. ,  88. ]])"
      ]
     },
     "execution_count": 47,
     "metadata": {},
     "output_type": "execute_result"
    }
   ],
   "source": [
    "pool_features = pool_train.copy()\n",
    "pool_labels = pool_features.pop(\"efficiency\")\n",
    "pool_extran1 = pool_features.pop(\"last_changed\")\n",
    "pool_entran2 = pool_features.pop(\"hdpower\")\n",
    "pool_features_ary = np.array(pool_features)\n",
    "pool_features_ary"
   ]
  },
  {
   "cell_type": "code",
   "execution_count": 28,
   "metadata": {},
   "outputs": [],
   "source": [
    "pool_model = tf.keras.Sequential([\n",
    "  layers.Dense(64),\n",
    "  layers.Dense(1)\n",
    "])\n",
    "\n",
    "pool_model.compile(loss = tf.losses.MeanSquaredError(),\n",
    "                      optimizer = tf.optimizers.Adam())"
   ]
  },
  {
   "cell_type": "code",
   "execution_count": 48,
   "metadata": {},
   "outputs": [
    {
     "name": "stdout",
     "output_type": "stream",
     "text": [
      "Epoch 1/10\n",
      "2614/2614 [==============================] - 5s 2ms/step - loss: 0.2797\n",
      "Epoch 2/10\n",
      "2614/2614 [==============================] - 5s 2ms/step - loss: 0.2715\n",
      "Epoch 3/10\n",
      "2614/2614 [==============================] - 6s 2ms/step - loss: 0.2812\n",
      "Epoch 4/10\n",
      "2614/2614 [==============================] - 8s 3ms/step - loss: 0.2592\n",
      "Epoch 5/10\n",
      "2614/2614 [==============================] - 5s 2ms/step - loss: 0.2719\n",
      "Epoch 6/10\n",
      "2614/2614 [==============================] - 5s 2ms/step - loss: 0.2598\n",
      "Epoch 7/10\n",
      "2614/2614 [==============================] - 4s 2ms/step - loss: 0.2602\n",
      "Epoch 8/10\n",
      "2614/2614 [==============================] - 8s 3ms/step - loss: 0.2617\n",
      "Epoch 9/10\n",
      "2614/2614 [==============================] - 5s 2ms/step - loss: 0.2523\n",
      "Epoch 10/10\n",
      "2614/2614 [==============================] - 6s 2ms/step - loss: 0.2553\n"
     ]
    },
    {
     "data": {
      "text/plain": [
       "<tensorflow.python.keras.callbacks.History at 0x7f6220565d68>"
      ]
     },
     "execution_count": 48,
     "metadata": {},
     "output_type": "execute_result"
    }
   ],
   "source": [
    "pool_model.fit(pool_features_ary, pool_labels, epochs=10)\n"
   ]
  },
  {
   "cell_type": "code",
   "execution_count": 50,
   "metadata": {},
   "outputs": [],
   "source": [
    "normalize = preprocessing.Normalization()\n"
   ]
  },
  {
   "cell_type": "code",
   "execution_count": 51,
   "metadata": {},
   "outputs": [],
   "source": [
    "normalize.adapt(pool_features_ary)\n"
   ]
  },
  {
   "cell_type": "code",
   "execution_count": 52,
   "metadata": {},
   "outputs": [
    {
     "name": "stdout",
     "output_type": "stream",
     "text": [
      "Epoch 1/10\n",
      "2614/2614 [==============================] - 5s 2ms/step - loss: 3.4672\n",
      "Epoch 2/10\n",
      "2614/2614 [==============================] - 5s 2ms/step - loss: 0.1951\n",
      "Epoch 3/10\n",
      "2614/2614 [==============================] - 7s 3ms/step - loss: 0.1953\n",
      "Epoch 4/10\n",
      "2614/2614 [==============================] - 6s 2ms/step - loss: 0.1958\n",
      "Epoch 5/10\n",
      "2614/2614 [==============================] - 7s 3ms/step - loss: 0.1954\n",
      "Epoch 6/10\n",
      "2614/2614 [==============================] - 8s 3ms/step - loss: 0.1952\n",
      "Epoch 7/10\n",
      "2614/2614 [==============================] - 7s 3ms/step - loss: 0.1938\n",
      "Epoch 8/10\n",
      "2614/2614 [==============================] - 5s 2ms/step - loss: 0.1954\n",
      "Epoch 9/10\n",
      "2614/2614 [==============================] - 8s 3ms/step - loss: 0.1935\n",
      "Epoch 10/10\n",
      "2614/2614 [==============================] - 5s 2ms/step - loss: 0.1949\n"
     ]
    },
    {
     "data": {
      "text/plain": [
       "<tensorflow.python.keras.callbacks.History at 0x7f6220584a90>"
      ]
     },
     "execution_count": 52,
     "metadata": {},
     "output_type": "execute_result"
    }
   ],
   "source": [
    "norm_pool_model = tf.keras.Sequential([\n",
    "  normalize,\n",
    "  layers.Dense(64),\n",
    "  layers.Dense(1)\n",
    "])\n",
    "\n",
    "norm_pool_model.compile(loss = tf.losses.MeanSquaredError(),\n",
    "                           optimizer = tf.optimizers.Adam())\n",
    "\n",
    "norm_pool_model.fit(pool_features_ary, pool_labels, epochs=10)"
   ]
  },
  {
   "cell_type": "code",
   "execution_count": 61,
   "metadata": {},
   "outputs": [
    {
     "data": {
      "text/plain": [
       "array([90.4, 90.4, 84.7, 84.7, 84.7, 84.7, 84.7, 84.7, 84.7, 84.7])"
      ]
     },
     "execution_count": 61,
     "metadata": {},
     "output_type": "execute_result"
    }
   ],
   "source": [
    "dark_sky_temperture = np.array(pool_features['dark_sky_temperture'])\n",
    "dark_sky_temperture[:10]"
   ]
  },
  {
   "cell_type": "code",
   "execution_count": 62,
   "metadata": {},
   "outputs": [
    {
     "data": {
      "text/plain": [
       "array([94, 93, 88, 88, 88, 88, 88, 88, 88, 88])"
      ]
     },
     "execution_count": 62,
     "metadata": {},
     "output_type": "execute_result"
    }
   ],
   "source": [
    "poolheatedtemp = np.array(pool_features['poolheatedtemp'])\n",
    "poolheatedtemp[:10]"
   ]
  },
  {
   "cell_type": "code",
   "execution_count": 63,
   "metadata": {},
   "outputs": [
    {
     "data": {
      "text/plain": [
       "array([94, 93, 88, 88, 88, 88, 88, 88, 88, 88])"
      ]
     },
     "execution_count": 63,
     "metadata": {},
     "output_type": "execute_result"
    }
   ],
   "source": [
    "poolreturntemp = np.array(pool_features['poolheatedtemp'])\n",
    "poolreturntemp[:10]"
   ]
  },
  {
   "cell_type": "code",
   "execution_count": 117,
   "metadata": {},
   "outputs": [
    {
     "name": "stdout",
     "output_type": "stream",
     "text": [
      "[[94.  90.  90.4]]\n",
      "[[8.484]]\n"
     ]
    }
   ],
   "source": [
    "dp = np.array([[94, 90,90.4]])\n",
    "print(dp)\n",
    "\n",
    "eff = pool_model.predict(dp)\n",
    "print(eff)\n"
   ]
  },
  {
   "cell_type": "code",
   "execution_count": 120,
   "metadata": {},
   "outputs": [
    {
     "name": "stdout",
     "output_type": "stream",
     "text": [
      "[[93.  90.  90.4]]\n",
      "[[6.456]]\n"
     ]
    }
   ],
   "source": [
    "dp = np.array([[93, 90,90.4]])\n",
    "print(dp)\n",
    "\n",
    "eff = pool_model.predict(dp)\n",
    "print(eff)"
   ]
  },
  {
   "cell_type": "code",
   "execution_count": 119,
   "metadata": {},
   "outputs": [
    {
     "name": "stdout",
     "output_type": "stream",
     "text": [
      "[[101  95  88]]\n",
      "[[12.373]]\n"
     ]
    }
   ],
   "source": [
    "dp = np.array([[101, 95, 88]])\n",
    "print(dp)\n",
    "\n",
    "eff = pool_model.predict(dp)\n",
    "print(eff)"
   ]
  },
  {
   "cell_type": "code",
   "execution_count": 37,
   "metadata": {},
   "outputs": [
    {
     "name": "stdout",
     "output_type": "stream",
     "text": [
      "Model: \"sequential_1\"\n",
      "_________________________________________________________________\n",
      "Layer (type)                 Output Shape              Param #   \n",
      "=================================================================\n",
      "dense_2 (Dense)              (None, 64)                256       \n",
      "_________________________________________________________________\n",
      "dense_3 (Dense)              (None, 1)                 65        \n",
      "=================================================================\n",
      "Total params: 321\n",
      "Trainable params: 321\n",
      "Non-trainable params: 0\n",
      "_________________________________________________________________\n"
     ]
    }
   ],
   "source": [
    "pool_model.summary()"
   ]
  }
 ],
 "metadata": {
  "kernelspec": {
   "display_name": "Python 3",
   "language": "python",
   "name": "python3"
  },
  "language_info": {
   "codemirror_mode": {
    "name": "ipython",
    "version": 3
   },
   "file_extension": ".py",
   "mimetype": "text/x-python",
   "name": "python",
   "nbconvert_exporter": "python",
   "pygments_lexer": "ipython3",
   "version": "3.6.9"
  }
 },
 "nbformat": 4,
 "nbformat_minor": 2
}
