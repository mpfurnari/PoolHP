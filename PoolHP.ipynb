{
 "cells": [
  {
   "cell_type": "markdown",
   "metadata": {},
   "source": [
    "# Prediction Input Parameters\n",
    "Poolreturntemp\n",
    "OATemp\n",
    "OAHum\n",
    "CloudCover\n",
    "HourOfDay\n",
    "DayOfYear\n",
    "Flow (PumpPower)\n",
    "\n",
    "# Prediction Output Parameters\n",
    "Predicted Temp Rise\n",
    "Predicted PoolReturnTemp (t+1h)\n",
    "Predicted PoolReturnTemp (t+3h)\n",
    "Predicted HeatingPowerDemand\n",
    "\n",
    "# Historical Data Rows\n",
    "t\n",
    "t+5min\n",
    "t+10min\n",
    "\n",
    "# Historical Data\n",
    "## Inputs\n",
    "OATemp\n",
    "OAHum\n",
    "CloudCover/SolarLoad/UV Index\n",
    "PoolReturnTemp\n",
    "HourOfDay\n",
    "DayOfYear\n",
    "## Outputs\n",
    "HeatingPowerDemand\n",
    "TempRise\n",
    "PoolReturnTemp(t+1h)\n",
    "PoolReturnTemp(t+3h)\n",
    "\n",
    "## Preprocessors\n",
    "1. Extractor - accumulates rows of data. Data only reports on changes, so maintains history per row\n",
    "1. dos2unix hpdata.csv\n",
    "1. sed -i '/nan/d' ./hpdata.csv # Remove nan entries\n",
    "1. Runtime filter - removes data when system is not operational. This is important becuase we can't measure pool temp then. Note: Removes first 5 minutes of each day as the system is stabilizing then.\n",
    "1. Time slicer - Averages data into 5 minute buckets\n",
    "1. Future Capture - For each 5 minute bucket, looks forward 3 hours to determine pool temp rise. Special processing required for end of day processing. For last 3 hours, take temp rise * hours difference /3. Might be able to use that calculation for everything and just always look forward 36 buckets.\n",
    "1. Drop last 3 hours of dataset as there is no forward looking data.\n"
   ]
  },
  {
   "cell_type": "code",
   "execution_count": 1,
   "metadata": {},
   "outputs": [],
   "source": [
    "import pandas as pd\n",
    "import numpy as np\n",
    "from datetime import datetime\n",
    "\n",
    "\n",
    "# Make numpy values easier to read.\n",
    "np.set_printoptions(precision=3, suppress=True)\n",
    "\n",
    "import tensorflow as tf\n",
    "from tensorflow.keras import layers\n",
    "from tensorflow.keras.layers.experimental import preprocessing"
   ]
  },
  {
   "cell_type": "code",
   "execution_count": 13,
   "metadata": {},
   "outputs": [
    {
     "data": {
      "text/html": [
       "<div>\n",
       "<style scoped>\n",
       "    .dataframe tbody tr th:only-of-type {\n",
       "        vertical-align: middle;\n",
       "    }\n",
       "\n",
       "    .dataframe tbody tr th {\n",
       "        vertical-align: top;\n",
       "    }\n",
       "\n",
       "    .dataframe thead th {\n",
       "        text-align: right;\n",
       "    }\n",
       "</style>\n",
       "<table border=\"1\" class=\"dataframe\">\n",
       "  <thead>\n",
       "    <tr style=\"text-align: right;\">\n",
       "      <th></th>\n",
       "      <th>last_changed</th>\n",
       "      <th>hdpower</th>\n",
       "      <th>poolheatedtemp</th>\n",
       "      <th>poolreturntemp</th>\n",
       "      <th>oa temp</th>\n",
       "      <th>efficiency</th>\n",
       "      <th>uv_index</th>\n",
       "    </tr>\n",
       "  </thead>\n",
       "  <tbody>\n",
       "    <tr>\n",
       "      <th>0</th>\n",
       "      <td>2020-06-23 13:28:57.047076-04:00</td>\n",
       "      <td>4217.0</td>\n",
       "      <td>88.0</td>\n",
       "      <td>87.0</td>\n",
       "      <td>84.7</td>\n",
       "      <td>2.371354</td>\n",
       "      <td>9.0</td>\n",
       "    </tr>\n",
       "    <tr>\n",
       "      <th>1</th>\n",
       "      <td>2020-06-23 13:28:59.058786-04:00</td>\n",
       "      <td>4275.0</td>\n",
       "      <td>88.0</td>\n",
       "      <td>87.0</td>\n",
       "      <td>84.7</td>\n",
       "      <td>2.339181</td>\n",
       "      <td>9.0</td>\n",
       "    </tr>\n",
       "    <tr>\n",
       "      <th>2</th>\n",
       "      <td>2020-06-23 13:29:00.128785-04:00</td>\n",
       "      <td>4367.0</td>\n",
       "      <td>88.0</td>\n",
       "      <td>87.0</td>\n",
       "      <td>84.7</td>\n",
       "      <td>2.289902</td>\n",
       "      <td>9.0</td>\n",
       "    </tr>\n",
       "    <tr>\n",
       "      <th>3</th>\n",
       "      <td>2020-06-23 13:29:02.172934-04:00</td>\n",
       "      <td>4467.0</td>\n",
       "      <td>88.0</td>\n",
       "      <td>87.0</td>\n",
       "      <td>84.7</td>\n",
       "      <td>2.238639</td>\n",
       "      <td>9.0</td>\n",
       "    </tr>\n",
       "    <tr>\n",
       "      <th>4</th>\n",
       "      <td>2020-06-23 13:29:03.030134-04:00</td>\n",
       "      <td>4528.0</td>\n",
       "      <td>88.0</td>\n",
       "      <td>87.0</td>\n",
       "      <td>84.7</td>\n",
       "      <td>2.208481</td>\n",
       "      <td>9.0</td>\n",
       "    </tr>\n",
       "  </tbody>\n",
       "</table>\n",
       "</div>"
      ],
      "text/plain": [
       "                       last_changed  hdpower  poolheatedtemp  poolreturntemp  \\\n",
       "0  2020-06-23 13:28:57.047076-04:00   4217.0            88.0            87.0   \n",
       "1  2020-06-23 13:28:59.058786-04:00   4275.0            88.0            87.0   \n",
       "2  2020-06-23 13:29:00.128785-04:00   4367.0            88.0            87.0   \n",
       "3  2020-06-23 13:29:02.172934-04:00   4467.0            88.0            87.0   \n",
       "4  2020-06-23 13:29:03.030134-04:00   4528.0            88.0            87.0   \n",
       "\n",
       "   oa temp  efficiency  uv_index  \n",
       "0     84.7    2.371354       9.0  \n",
       "1     84.7    2.339181       9.0  \n",
       "2     84.7    2.289902       9.0  \n",
       "3     84.7    2.238639       9.0  \n",
       "4     84.7    2.208481       9.0  "
      ]
     },
     "execution_count": 13,
     "metadata": {},
     "output_type": "execute_result"
    }
   ],
   "source": [
    "\n",
    "pool_train = pd.read_csv(\n",
    "    \"hpdata.csv\",\n",
    "    names={\"last_changed\":datetime,\"hdpower\":tf.float32,\"poolheatedtemp\":tf.float32,\"poolreturntemp\":tf.float32,\"oa temp\":tf.float32,\"efficiency\":tf.float32, \"uv_index\":tf.float32},\n",
    "    skiprows=3, low_memory=False)\n",
    "\n",
    "pool_train.head()"
   ]
  },
  {
   "cell_type": "code",
   "execution_count": 25,
   "metadata": {},
   "outputs": [
    {
     "data": {
      "text/plain": [
       "array([[88. , 87. , 84.7,  9. ],\n",
       "       [88. , 87. , 84.7,  9. ],\n",
       "       [88. , 87. , 84.7,  9. ],\n",
       "       ...,\n",
       "       [70. , 67. , 71.5,  5. ],\n",
       "       [70. , 67. , 71.5,  5. ],\n",
       "       [70. , 67. , 71.5,  5. ]])"
      ]
     },
     "execution_count": 25,
     "metadata": {},
     "output_type": "execute_result"
    }
   ],
   "source": [
    "pool_features = pool_train.copy()\n",
    "pool_labels = pool_features.pop(\"hdpower\")\n",
    "pool_extran1 = pool_features.pop(\"last_changed\")\n",
    "pool_efficiency = pool_features.pop(\"efficiency\")\n",
    "pool_features_ary = np.array(pool_features)\n",
    "pool_features_ary"
   ]
  },
  {
   "cell_type": "code",
   "execution_count": 27,
   "metadata": {},
   "outputs": [],
   "source": [
    "pool_model = tf.keras.Sequential([\n",
    "  layers.Dense(64),\n",
    "  layers.Dense(1)\n",
    "])\n",
    "\n",
    "pool_model.compile(loss = tf.losses.MeanSquaredError(),\n",
    "                      optimizer = tf.optimizers.Adam())"
   ]
  },
  {
   "cell_type": "code",
   "execution_count": 28,
   "metadata": {},
   "outputs": [
    {
     "name": "stdout",
     "output_type": "stream",
     "text": [
      "Epoch 1/10\n",
      "31720/31720 [==============================] - 35s 1ms/step - loss: 127811.3672\n",
      "Epoch 2/10\n",
      "31720/31720 [==============================] - 40s 1ms/step - loss: 7850.0972\n",
      "Epoch 3/10\n",
      "31720/31720 [==============================] - 41s 1ms/step - loss: 7736.7720\n",
      "Epoch 4/10\n",
      "31720/31720 [==============================] - 39s 1ms/step - loss: 7688.4155\n",
      "Epoch 5/10\n",
      "31720/31720 [==============================] - 40s 1ms/step - loss: 7662.9077\n",
      "Epoch 6/10\n",
      "31720/31720 [==============================] - 42s 1ms/step - loss: 7652.5273\n",
      "Epoch 7/10\n",
      "31720/31720 [==============================] - 36s 1ms/step - loss: 7643.3999\n",
      "Epoch 8/10\n",
      "31720/31720 [==============================] - 38s 1ms/step - loss: 7644.9351\n",
      "Epoch 9/10\n",
      "31720/31720 [==============================] - 40s 1ms/step - loss: 7645.1372\n",
      "Epoch 10/10\n",
      "31720/31720 [==============================] - 41s 1ms/step - loss: 7638.9814\n"
     ]
    },
    {
     "data": {
      "text/plain": [
       "<tensorflow.python.keras.callbacks.History at 0x7fa2a961aa58>"
      ]
     },
     "execution_count": 28,
     "metadata": {},
     "output_type": "execute_result"
    }
   ],
   "source": [
    "pool_model.fit(pool_features_ary, pool_labels, epochs=10)\n"
   ]
  },
  {
   "cell_type": "code",
   "execution_count": 29,
   "metadata": {},
   "outputs": [],
   "source": [
    "normalize = preprocessing.Normalization()\n"
   ]
  },
  {
   "cell_type": "code",
   "execution_count": 30,
   "metadata": {},
   "outputs": [],
   "source": [
    "normalize.adapt(pool_features_ary)\n"
   ]
  },
  {
   "cell_type": "code",
   "execution_count": 31,
   "metadata": {},
   "outputs": [
    {
     "name": "stdout",
     "output_type": "stream",
     "text": [
      "Epoch 1/10\n",
      "31720/31720 [==============================] - 37s 1ms/step - loss: 2109081.7500\n",
      "Epoch 2/10\n",
      "31720/31720 [==============================] - 45s 1ms/step - loss: 7547.7812\n",
      "Epoch 3/10\n",
      "31720/31720 [==============================] - 41s 1ms/step - loss: 7549.1011\n",
      "Epoch 4/10\n",
      "31720/31720 [==============================] - 43s 1ms/step - loss: 7547.0664\n",
      "Epoch 5/10\n",
      "31720/31720 [==============================] - 42s 1ms/step - loss: 7549.0557\n",
      "Epoch 6/10\n",
      "31720/31720 [==============================] - 42s 1ms/step - loss: 7547.0718\n",
      "Epoch 7/10\n",
      "31720/31720 [==============================] - 42s 1ms/step - loss: 7548.0430\n",
      "Epoch 8/10\n",
      "31720/31720 [==============================] - 42s 1ms/step - loss: 7548.2134\n",
      "Epoch 9/10\n",
      "31720/31720 [==============================] - 40s 1ms/step - loss: 7548.0244\n",
      "Epoch 10/10\n",
      "31720/31720 [==============================] - 39s 1ms/step - loss: 7547.4258\n"
     ]
    },
    {
     "data": {
      "text/plain": [
       "<tensorflow.python.keras.callbacks.History at 0x7fa2a8d02c88>"
      ]
     },
     "execution_count": 31,
     "metadata": {},
     "output_type": "execute_result"
    }
   ],
   "source": [
    "norm_pool_model = tf.keras.Sequential([\n",
    "  normalize,\n",
    "  layers.Dense(64),\n",
    "  layers.Dense(1)\n",
    "])\n",
    "\n",
    "norm_pool_model.compile(loss = tf.losses.MeanSquaredError(),\n",
    "                           optimizer = tf.optimizers.Adam())\n",
    "\n",
    "norm_pool_model.fit(pool_features_ary, pool_labels, epochs=10)"
   ]
  },
  {
   "cell_type": "code",
   "execution_count": 32,
   "metadata": {},
   "outputs": [
    {
     "data": {
      "text/plain": [
       "array([84.7, 84.7, 84.7, 84.7, 84.7, 84.7, 84.7, 84.7, 84.7, 84.7, 84.7,\n",
       "       84.7, 84.7, 84.7, 84.7, 84.7, 84.7, 84.7, 84.7, 84.7, 84.7, 84.7,\n",
       "       84.7, 84.7, 84.7, 84.7, 84.7, 84.7, 84.7, 84.7, 84.7, 84.7, 84.7,\n",
       "       84.7, 84.7, 84.7, 84.7, 84.7, 84.7, 84.7, 84.7, 84.7, 84.7, 84.7,\n",
       "       84.7, 84.7, 84.7, 84.7, 84.7, 84.7, 84.7, 84.7, 84.7, 84.7, 84.7,\n",
       "       84.7, 84.7, 84.7, 84.7, 84.7, 84.7, 84.7, 84.7, 84.7, 84.7, 84.7,\n",
       "       84.7, 84.7, 84.7, 84.7, 84.7, 84.7, 84.7, 84.7, 84.7, 84.7, 84.7,\n",
       "       84.7, 84.7, 84.7, 84.7, 84.7, 84.7, 84.7, 84.7, 84.7, 84.7, 84.7,\n",
       "       84.7, 84.7, 84.7, 84.7, 84.7, 84.7, 84.7, 84.7, 84.7, 84.7, 84.7,\n",
       "       84.7])"
      ]
     },
     "execution_count": 32,
     "metadata": {},
     "output_type": "execute_result"
    }
   ],
   "source": [
    "dark_sky_temperture = np.array(pool_features['oa temp'])\n",
    "dark_sky_temperture[:100]"
   ]
  },
  {
   "cell_type": "code",
   "execution_count": 33,
   "metadata": {},
   "outputs": [
    {
     "data": {
      "text/plain": [
       "array([88., 88., 88., 88., 88., 88., 88., 88., 88., 89.])"
      ]
     },
     "execution_count": 33,
     "metadata": {},
     "output_type": "execute_result"
    }
   ],
   "source": [
    "poolheatedtemp = np.array(pool_features['poolheatedtemp'])\n",
    "poolheatedtemp[:10]"
   ]
  },
  {
   "cell_type": "code",
   "execution_count": 34,
   "metadata": {},
   "outputs": [
    {
     "data": {
      "text/plain": [
       "array([88., 88., 88., 88., 88., 88., 88., 88., 88., 89.])"
      ]
     },
     "execution_count": 34,
     "metadata": {},
     "output_type": "execute_result"
    }
   ],
   "source": [
    "poolreturntemp = np.array(pool_features['poolheatedtemp'])\n",
    "poolreturntemp[:10]"
   ]
  },
  {
   "cell_type": "code",
   "execution_count": 35,
   "metadata": {},
   "outputs": [
    {
     "name": "stdout",
     "output_type": "stream",
     "text": [
      "[[94.  90.  90.4  5. ]]\n",
      "[[4773.806]]\n"
     ]
    }
   ],
   "source": [
    "dp = np.array([[94, 90,90.4,5]])\n",
    "print(dp)\n",
    "\n",
    "hppower = pool_model.predict(dp)\n",
    "print(hppower)\n"
   ]
  },
  {
   "cell_type": "code",
   "execution_count": 36,
   "metadata": {},
   "outputs": [
    {
     "name": "stdout",
     "output_type": "stream",
     "text": [
      "[[93.  90.  90.4  3. ]]\n",
      "[[4732.522]]\n"
     ]
    }
   ],
   "source": [
    "dp = np.array([[93, 90,90.4,3]])\n",
    "print(dp)\n",
    "\n",
    "eff = pool_model.predict(dp)\n",
    "print(eff)"
   ]
  },
  {
   "cell_type": "code",
   "execution_count": 37,
   "metadata": {},
   "outputs": [
    {
     "name": "stdout",
     "output_type": "stream",
     "text": [
      "[[101  95  88   0]]\n",
      "[[5039.642]]\n"
     ]
    }
   ],
   "source": [
    "dp = np.array([[101, 95, 88,0]])\n",
    "print(dp)\n",
    "\n",
    "eff = pool_model.predict(dp)\n",
    "print(eff)"
   ]
  },
  {
   "cell_type": "code",
   "execution_count": 38,
   "metadata": {},
   "outputs": [
    {
     "name": "stdout",
     "output_type": "stream",
     "text": [
      "Model: \"sequential_6\"\n",
      "_________________________________________________________________\n",
      "Layer (type)                 Output Shape              Param #   \n",
      "=================================================================\n",
      "dense_12 (Dense)             (None, 64)                320       \n",
      "_________________________________________________________________\n",
      "dense_13 (Dense)             (None, 1)                 65        \n",
      "=================================================================\n",
      "Total params: 385\n",
      "Trainable params: 385\n",
      "Non-trainable params: 0\n",
      "_________________________________________________________________\n"
     ]
    }
   ],
   "source": [
    "pool_model.summary()"
   ]
  }
 ],
 "metadata": {
  "kernelspec": {
   "display_name": "Python 3",
   "language": "python",
   "name": "python3"
  },
  "language_info": {
   "codemirror_mode": {
    "name": "ipython",
    "version": 3
   },
   "file_extension": ".py",
   "mimetype": "text/x-python",
   "name": "python",
   "nbconvert_exporter": "python",
   "pygments_lexer": "ipython3",
   "version": "3.6.9"
  }
 },
 "nbformat": 4,
 "nbformat_minor": 2
}
